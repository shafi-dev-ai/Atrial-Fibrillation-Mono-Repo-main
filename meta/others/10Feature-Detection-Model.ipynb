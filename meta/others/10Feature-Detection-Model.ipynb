{
 "cells": [
  {
   "cell_type": "code",
   "execution_count": 1,
   "id": "400c2cab",
   "metadata": {},
   "outputs": [],
   "source": [
    "# import essential libraries\n",
    "import pandas as pd\n",
    "import numpy as np\n",
    "from sklearn.neighbors import KNeighborsClassifier, KNeighborsRegressor\n",
    "from sklearn.ensemble import RandomForestClassifier, RandomForestRegressor\n",
    "from sklearn.model_selection import train_test_split, cross_validate, GridSearchCV\n",
    "from sklearn.metrics import accuracy_score, confusion_matrix, classification_report, mean_squared_error, mean_absolute_error\n",
    "import warnings\n",
    "warnings.filterwarnings('ignore')"
   ]
  },
  {
   "cell_type": "code",
   "execution_count": 2,
   "id": "a88fbf40",
   "metadata": {},
   "outputs": [
    {
     "name": "stdout",
     "output_type": "stream",
     "text": [
      "(1803, 11)\n"
     ]
    },
    {
     "data": {
      "text/html": [
       "<div>\n",
       "<style scoped>\n",
       "    .dataframe tbody tr th:only-of-type {\n",
       "        vertical-align: middle;\n",
       "    }\n",
       "\n",
       "    .dataframe tbody tr th {\n",
       "        vertical-align: top;\n",
       "    }\n",
       "\n",
       "    .dataframe thead th {\n",
       "        text-align: right;\n",
       "    }\n",
       "</style>\n",
       "<table border=\"1\" class=\"dataframe\">\n",
       "  <thead>\n",
       "    <tr style=\"text-align: right;\">\n",
       "      <th></th>\n",
       "      <th>ritmi</th>\n",
       "      <th>age</th>\n",
       "      <th>sex</th>\n",
       "      <th>height</th>\n",
       "      <th>weight</th>\n",
       "      <th>heart_axis</th>\n",
       "      <th>validated_by</th>\n",
       "      <th>second_opinion</th>\n",
       "      <th>validated_by_human</th>\n",
       "      <th>pacemaker</th>\n",
       "      <th>strat_fold</th>\n",
       "    </tr>\n",
       "  </thead>\n",
       "  <tbody>\n",
       "    <tr>\n",
       "      <th>0</th>\n",
       "      <td>2</td>\n",
       "      <td>29.0</td>\n",
       "      <td>1</td>\n",
       "      <td>164.0</td>\n",
       "      <td>56.0</td>\n",
       "      <td>0</td>\n",
       "      <td>0.0</td>\n",
       "      <td>0</td>\n",
       "      <td>1</td>\n",
       "      <td>0</td>\n",
       "      <td>1</td>\n",
       "    </tr>\n",
       "    <tr>\n",
       "      <th>1</th>\n",
       "      <td>0</td>\n",
       "      <td>59.0</td>\n",
       "      <td>0</td>\n",
       "      <td>156.0</td>\n",
       "      <td>75.0</td>\n",
       "      <td>0</td>\n",
       "      <td>0.0</td>\n",
       "      <td>0</td>\n",
       "      <td>1</td>\n",
       "      <td>0</td>\n",
       "      <td>9</td>\n",
       "    </tr>\n",
       "    <tr>\n",
       "      <th>2</th>\n",
       "      <td>2</td>\n",
       "      <td>84.0</td>\n",
       "      <td>1</td>\n",
       "      <td>152.0</td>\n",
       "      <td>51.0</td>\n",
       "      <td>0</td>\n",
       "      <td>0.0</td>\n",
       "      <td>0</td>\n",
       "      <td>1</td>\n",
       "      <td>0</td>\n",
       "      <td>7</td>\n",
       "    </tr>\n",
       "    <tr>\n",
       "      <th>3</th>\n",
       "      <td>0</td>\n",
       "      <td>79.0</td>\n",
       "      <td>0</td>\n",
       "      <td>172.0</td>\n",
       "      <td>66.0</td>\n",
       "      <td>0</td>\n",
       "      <td>0.0</td>\n",
       "      <td>0</td>\n",
       "      <td>1</td>\n",
       "      <td>0</td>\n",
       "      <td>5</td>\n",
       "    </tr>\n",
       "    <tr>\n",
       "      <th>4</th>\n",
       "      <td>1</td>\n",
       "      <td>67.0</td>\n",
       "      <td>0</td>\n",
       "      <td>178.0</td>\n",
       "      <td>73.0</td>\n",
       "      <td>4</td>\n",
       "      <td>0.0</td>\n",
       "      <td>0</td>\n",
       "      <td>1</td>\n",
       "      <td>0</td>\n",
       "      <td>5</td>\n",
       "    </tr>\n",
       "  </tbody>\n",
       "</table>\n",
       "</div>"
      ],
      "text/plain": [
       "   ritmi   age  sex  height  weight  heart_axis  validated_by  second_opinion  \\\n",
       "0      2  29.0    1   164.0    56.0           0           0.0               0   \n",
       "1      0  59.0    0   156.0    75.0           0           0.0               0   \n",
       "2      2  84.0    1   152.0    51.0           0           0.0               0   \n",
       "3      0  79.0    0   172.0    66.0           0           0.0               0   \n",
       "4      1  67.0    0   178.0    73.0           4           0.0               0   \n",
       "\n",
       "   validated_by_human  pacemaker  strat_fold  \n",
       "0                   1          0           1  \n",
       "1                   1          0           9  \n",
       "2                   1          0           7  \n",
       "3                   1          0           5  \n",
       "4                   1          0           5  "
      ]
     },
     "execution_count": 2,
     "metadata": {},
     "output_type": "execute_result"
    }
   ],
   "source": [
    "# read in csv \n",
    "df = pd.read_csv('training_11_features.csv')\n",
    "df = df.dropna()\n",
    "# df = df[df['ritmi'] != 0]\n",
    "df = df.reset_index(drop=True)\n",
    "print(df.shape)\n",
    "df.head()"
   ]
  },
  {
   "cell_type": "code",
   "execution_count": 3,
   "id": "7a0d7ea2",
   "metadata": {},
   "outputs": [
    {
     "name": "stdout",
     "output_type": "stream",
     "text": [
      "<class 'pandas.core.frame.DataFrame'>\n",
      "RangeIndex: 1803 entries, 0 to 1802\n",
      "Data columns (total 11 columns):\n",
      " #   Column              Non-Null Count  Dtype\n",
      "---  ------              --------------  -----\n",
      " 0   ritmi               1803 non-null   int64\n",
      " 1   age                 1803 non-null   int64\n",
      " 2   sex                 1803 non-null   int64\n",
      " 3   height              1803 non-null   int64\n",
      " 4   weight              1803 non-null   int64\n",
      " 5   heart_axis          1803 non-null   int64\n",
      " 6   validated_by        1803 non-null   int64\n",
      " 7   second_opinion      1803 non-null   int64\n",
      " 8   validated_by_human  1803 non-null   int64\n",
      " 9   pacemaker           1803 non-null   int64\n",
      " 10  strat_fold          1803 non-null   int64\n",
      "dtypes: int64(11)\n",
      "memory usage: 155.1 KB\n"
     ]
    }
   ],
   "source": [
    "# convert all columns' types to int64\n",
    "df['age'] = df['age'].astype('int64')\n",
    "df['height'] = df['height'].astype('int64')\n",
    "df['weight'] = df['weight'].astype('int64')\n",
    "df['validated_by'] = df['validated_by'].astype('int64')\n",
    "\n",
    "# get info for columns\n",
    "df.info()"
   ]
  },
  {
   "cell_type": "code",
   "execution_count": 4,
   "id": "41093052",
   "metadata": {},
   "outputs": [],
   "source": [
    "# train-test split\n",
    "X = df.drop(columns = ['ritmi','heart_axis','pacemaker','second_opinion','strat_fold','validated_by','validated_by_human'])\n",
    "y = df['ritmi']\n",
    "X_train, X_test, y_train, y_test=train_test_split(X, y, test_size = 0.25, random_state = 1234)"
   ]
  },
  {
   "cell_type": "code",
   "execution_count": 5,
   "id": "58e11eb8",
   "metadata": {},
   "outputs": [
    {
     "name": "stdout",
     "output_type": "stream",
     "text": [
      "X_train (1352, 4)\n",
      "y_train (1352,)\n",
      "X_test (451, 4)\n",
      "y_test (451,)\n"
     ]
    }
   ],
   "source": [
    "print(\"X_train\", X_train.shape)\n",
    "print(\"y_train\", y_train.shape)\n",
    "print(\"X_test\", X_test.shape)\n",
    "print(\"y_test\", y_test.shape)"
   ]
  },
  {
   "cell_type": "markdown",
   "id": "4d944d47",
   "metadata": {},
   "source": [
    "# Random Forest"
   ]
  },
  {
   "cell_type": "code",
   "execution_count": 6,
   "id": "feb4c180",
   "metadata": {},
   "outputs": [
    {
     "name": "stdout",
     "output_type": "stream",
     "text": [
      "Best Score:0.45563042267278153\n",
      "Best Parameters: {'criterion': 'entropy', 'max_depth': 60, 'n_estimators': 600}\n"
     ]
    }
   ],
   "source": [
    "# Plug in appropriate max_depth and random_state parameters\n",
    "rf = RandomForestClassifier()\n",
    "rf_param_grid = {'n_estimators': [600], 'criterion': ['entropy'], 'max_depth': [60]} #0.4615443314230772\n",
    "\n",
    "rf_cv= GridSearchCV(rf,rf_param_grid,cv=7,n_jobs=-1)\n",
    "\n",
    "rf_cv.fit(X_train,y_train)\n",
    "\n",
    "print(\"Best Score:\" + str(rf_cv.best_score_))\n",
    "print(\"Best Parameters: \" + str(rf_cv.best_params_))"
   ]
  },
  {
   "cell_type": "code",
   "execution_count": 7,
   "id": "589417d0",
   "metadata": {},
   "outputs": [
    {
     "name": "stdout",
     "output_type": "stream",
     "text": [
      "              precision    recall  f1-score   support\n",
      "\n",
      "           0       0.99      1.00      0.99       461\n",
      "           1       0.97      0.97      0.97       358\n",
      "           2       0.98      0.97      0.98       533\n",
      "\n",
      "    accuracy                           0.98      1352\n",
      "   macro avg       0.98      0.98      0.98      1352\n",
      "weighted avg       0.98      0.98      0.98      1352\n",
      "\n"
     ]
    }
   ],
   "source": [
    "y_train_pred = rf_cv.predict(X_train)\n",
    "print(classification_report(y_train, y_train_pred))"
   ]
  },
  {
   "cell_type": "code",
   "execution_count": 8,
   "id": "7de8a8ef",
   "metadata": {},
   "outputs": [
    {
     "name": "stdout",
     "output_type": "stream",
     "text": [
      "              precision    recall  f1-score   support\n",
      "\n",
      "           0       0.41      0.40      0.41       151\n",
      "           1       0.36      0.41      0.38       116\n",
      "           2       0.42      0.38      0.40       184\n",
      "\n",
      "    accuracy                           0.40       451\n",
      "   macro avg       0.39      0.40      0.40       451\n",
      "weighted avg       0.40      0.40      0.40       451\n",
      "\n"
     ]
    }
   ],
   "source": [
    "y_pred = rf_cv.predict(X_test)\n",
    "print(classification_report(y_test, y_pred))"
   ]
  },
  {
   "cell_type": "code",
   "execution_count": 9,
   "id": "ba336c06",
   "metadata": {},
   "outputs": [
    {
     "data": {
      "text/plain": [
       "<AxesSubplot:>"
      ]
     },
     "execution_count": 9,
     "metadata": {},
     "output_type": "execute_result"
    },
    {
     "data": {
      "image/png": "[encoded data removed]",
      "text/plain": [
       "<Figure size 640x480 with 2 Axes>"
      ]
     },
     "metadata": {},
     "output_type": "display_data"
    }
   ],
   "source": [
    "# confusion matrix\n",
    "from sklearn.metrics import confusion_matrix\n",
    "import seaborn as sns\n",
    "import matplotlib.pyplot as plt\n",
    "\n",
    "cm = confusion_matrix(y_test, y_pred)\n",
    "sns.heatmap(cm, annot=True, fmt='d', cmap='Blues')\n"
   ]
  },
  {
   "cell_type": "markdown",
   "id": "8ab754d3",
   "metadata": {},
   "source": [
    "# K Neighbors Classifier"
   ]
  },
  {
   "cell_type": "code",
   "execution_count": 10,
   "id": "c683d5c5",
   "metadata": {},
   "outputs": [
    {
     "name": "stdout",
     "output_type": "stream",
     "text": [
      "Fitting 5 folds for each of 1 candidates, totalling 5 fits\n",
      "[CV 2/5] END metric=euclidean, n_neighbors=150, weights=distance;, score=0.506 total time=   0.1s\n",
      "[CV 3/5] END metric=euclidean, n_neighbors=150, weights=distance;, score=0.437 total time=   0.1s\n",
      "[CV 4/5] END metric=euclidean, n_neighbors=150, weights=distance;, score=0.500 total time=   0.1s\n",
      "[CV 5/5] END metric=euclidean, n_neighbors=150, weights=distance;, score=0.470 total time=   0.1s\n",
      "[CV 1/5] END metric=euclidean, n_neighbors=150, weights=distance;, score=0.480 total time=   0.0s\n",
      "KNeighborsClassifier(metric='euclidean', n_neighbors=150, weights='distance') {'metric': 'euclidean', 'n_neighbors': 150, 'weights': 'distance'} 0.47852945196118635\n"
     ]
    }
   ],
   "source": [
    "clfl2 = KNeighborsClassifier()\n",
    "parameters = {'n_neighbors': [150], 'weights': ['distance'], 'metric': ['euclidean']} #0.4889326226595599\n",
    "\n",
    "fitmodel = GridSearchCV(clfl2, param_grid=parameters, cv=5, refit=True, scoring=\"accuracy\", n_jobs=-1, verbose=3)\n",
    "fitmodel.fit(X_train, y_train)\n",
    "print(fitmodel.best_estimator_, fitmodel.best_params_, fitmodel.best_score_)"
   ]
  },
  {
   "cell_type": "code",
   "execution_count": 11,
   "id": "41755e7c",
   "metadata": {},
   "outputs": [
    {
     "name": "stdout",
     "output_type": "stream",
     "text": [
      "              precision    recall  f1-score   support\n",
      "\n",
      "           0       0.47      0.42      0.44       151\n",
      "           1       0.42      0.50      0.45       116\n",
      "           2       0.47      0.46      0.46       184\n",
      "\n",
      "    accuracy                           0.45       451\n",
      "   macro avg       0.45      0.46      0.45       451\n",
      "weighted avg       0.46      0.45      0.45       451\n",
      "\n"
     ]
    }
   ],
   "source": [
    "y_pred = fitmodel.predict(X_test)\n",
    "print(classification_report(y_test, y_pred))"
   ]
  },
  {
   "cell_type": "code",
   "execution_count": 12,
   "id": "e858a660",
   "metadata": {},
   "outputs": [
    {
     "data": {
      "text/plain": [
       "<AxesSubplot:>"
      ]
     },
     "execution_count": 12,
     "metadata": {},
     "output_type": "execute_result"
    },
    {
     "data": {
      "image/png": "[encoded data removed]",
      "text/plain": [
       "<Figure size 640x480 with 2 Axes>"
      ]
     },
     "metadata": {},
     "output_type": "display_data"
    }
   ],
   "source": [
    "# confusion matrix\n",
    "\n",
    "cm = confusion_matrix(y_test, y_pred)\n",
    "sns.heatmap(cm, annot=True, fmt='d', cmap='Blues')"
   ]
  },
  {
   "cell_type": "markdown",
   "id": "c18cd98d",
   "metadata": {},
   "source": [
    "## Deep learning models"
   ]
  },
  {
   "cell_type": "code",
   "execution_count": 13,
   "id": "ac8de5d4",
   "metadata": {},
   "outputs": [],
   "source": [
    "#CNN\n",
    "from tensorflow.keras.layers import Flatten, Dense, Conv1D, MaxPool1D, Dropout,MaxPooling1D,LSTM\n",
    "from tensorflow.keras.models import Sequential\n",
    "from keras.utils import to_categorical"
   ]
  },
  {
   "cell_type": "code",
   "execution_count": 14,
   "id": "c68df84a",
   "metadata": {},
   "outputs": [],
   "source": [
    "#Reshape train and test data to (n_samples, 187, 1), where each sample is of size (187, 1)\n",
    "X_train = np.array(X_train).reshape(X_train.shape[0], X_train.shape[1], 1)\n",
    "X_test = np.array(X_test).reshape(X_test.shape[0], X_test.shape[1], 1)"
   ]
  },
  {
   "cell_type": "code",
   "execution_count": 15,
   "id": "309d8496",
   "metadata": {},
   "outputs": [],
   "source": [
    "y_test_old = y_test.copy()"
   ]
  },
  {
   "cell_type": "code",
   "execution_count": 16,
   "id": "a37291a5",
   "metadata": {},
   "outputs": [],
   "source": [
    "y_train = to_categorical(y_train)\n",
    "y_test = to_categorical(y_test)"
   ]
  },
  {
   "cell_type": "code",
   "execution_count": 17,
   "id": "b290fc80",
   "metadata": {},
   "outputs": [
    {
     "data": {
      "text/plain": [
       "3"
      ]
     },
     "execution_count": 17,
     "metadata": {},
     "output_type": "execute_result"
    }
   ],
   "source": [
    "y_train.shape[1]"
   ]
  },
  {
   "cell_type": "markdown",
   "id": "faf85215",
   "metadata": {},
   "source": [
    "## 1-D Convolution"
   ]
  },
  {
   "cell_type": "code",
   "execution_count": 18,
   "id": "ec3d3f3a",
   "metadata": {},
   "outputs": [],
   "source": [
    "model = Sequential()\n",
    "model.add(Conv1D(filters=64, kernel_size=3, activation='relu', input_shape=(X_train.shape[1],1)))\n",
    "model.add(Dropout(0.5))\n",
    "model.add(MaxPooling1D(pool_size=2))\n",
    "model.add(Flatten())\n",
    "model.add(Dense(100, activation='relu'))\n",
    "model.add(Dense(y_train.shape[1], activation='softmax'))\n",
    "model.compile(loss='categorical_crossentropy', optimizer='adam', metrics=['accuracy'])"
   ]
  },
  {
   "cell_type": "code",
   "execution_count": 19,
   "id": "cb931b24",
   "metadata": {},
   "outputs": [
    {
     "name": "stdout",
     "output_type": "stream",
     "text": [
      "Epoch 1/2\n"
     ]
    },
    {
     "name": "stderr",
     "output_type": "stream",
     "text": [
      "2022-12-07 00:22:06.902581: W tensorflow/core/platform/profile_utils/cpu_utils.cc:128] Failed to get CPU frequency: 0 Hz\n"
     ]
    },
    {
     "name": "stdout",
     "output_type": "stream",
     "text": [
      "43/43 [==============================] - 3s 4ms/step - loss: 6.0918 - accuracy: 0.3462\n",
      "Epoch 2/2\n",
      "43/43 [==============================] - 0s 9ms/step - loss: 3.5867 - accuracy: 0.3521\n"
     ]
    }
   ],
   "source": [
    "# fit network\n",
    "history_1d = model.fit(X_train, y_train, epochs=2)\n",
    "# evaluate model"
   ]
  },
  {
   "cell_type": "code",
   "execution_count": 20,
   "id": "04e7dd26",
   "metadata": {},
   "outputs": [
    {
     "name": "stdout",
     "output_type": "stream",
     "text": [
      "15/15 [==============================] - 0s 1ms/step - loss: 2.5483 - accuracy: 0.4080\n"
     ]
    }
   ],
   "source": [
    "_, accuracy = model.evaluate(X_test, y_test)"
   ]
  },
  {
   "cell_type": "code",
   "execution_count": 21,
   "id": "d26efee4",
   "metadata": {},
   "outputs": [
    {
     "name": "stdout",
     "output_type": "stream",
     "text": [
      "15/15 [==============================] - 0s 3ms/step\n",
      "              precision    recall  f1-score   support\n",
      "\n",
      "           0       0.00      0.00      0.00       151\n",
      "           1       0.00      0.00      0.00       116\n",
      "           2       0.41      1.00      0.58       184\n",
      "\n",
      "    accuracy                           0.41       451\n",
      "   macro avg       0.14      0.33      0.19       451\n",
      "weighted avg       0.17      0.41      0.24       451\n",
      "\n"
     ]
    }
   ],
   "source": [
    "pred_result = model.predict(X_test)\n",
    "final_pred = [np.argmax(i) for i in pred_result]\n",
    "print(classification_report(y_test_old,final_pred))"
   ]
  },
  {
   "cell_type": "code",
   "execution_count": 22,
   "id": "592c62ed",
   "metadata": {},
   "outputs": [
    {
     "data": {
      "text/plain": [
       "<AxesSubplot:>"
      ]
     },
     "execution_count": 22,
     "metadata": {},
     "output_type": "execute_result"
    },
    {
     "data": {
      "image/png": "[encoded data removed]",
      "text/plain": [
       "<Figure size 640x480 with 2 Axes>"
      ]
     },
     "metadata": {},
     "output_type": "display_data"
    }
   ],
   "source": [
    "# confusion matrix\n",
    "\n",
    "cm = confusion_matrix(y_test_old, final_pred)\n",
    "sns.heatmap(cm, annot=True, fmt='d', cmap='Blues')"
   ]
  },
  {
   "cell_type": "markdown",
   "id": "a3c7b1ef",
   "metadata": {},
   "source": [
    "## LSTM models"
   ]
  },
  {
   "cell_type": "code",
   "execution_count": 23,
   "id": "12e75f67",
   "metadata": {},
   "outputs": [
    {
     "name": "stdout",
     "output_type": "stream",
     "text": [
      "Model: \"sequential_1\"\n",
      "_________________________________________________________________\n",
      " Layer (type)                Output Shape              Param #   \n",
      "=================================================================\n",
      " lstm (LSTM)                 (None, 100)               40800     \n",
      "                                                                 \n",
      " dropout_1 (Dropout)         (None, 100)               0         \n",
      "                                                                 \n",
      " dense_2 (Dense)             (None, 100)               10100     \n",
      "                                                                 \n",
      " dense_3 (Dense)             (None, 3)                 303       \n",
      "                                                                 \n",
      "=================================================================\n",
      "Total params: 51,203\n",
      "Trainable params: 51,203\n",
      "Non-trainable params: 0\n",
      "_________________________________________________________________\n"
     ]
    }
   ],
   "source": [
    "lstm_model = Sequential()\n",
    "lstm_model.add(LSTM(100, input_shape=(X_train.shape[1],1)))\n",
    "lstm_model.add(Dropout(0.5))\n",
    "lstm_model.add(Dense(100, activation=\"relu\"))\n",
    "lstm_model.add(Dense(y_train.shape[1], activation=\"softmax\"))\n",
    "lstm_model.compile(loss=\"categorical_crossentropy\", optimizer=\"adam\", metrics=[\"accuracy\"])\n",
    "lstm_model.summary()"
   ]
  },
  {
   "cell_type": "code",
   "execution_count": 24,
   "id": "f334c9e3",
   "metadata": {},
   "outputs": [
    {
     "name": "stdout",
     "output_type": "stream",
     "text": [
      "43/43 [==============================] - 5s 8ms/step - loss: 1.1145 - accuracy: 0.3728\n"
     ]
    }
   ],
   "source": [
    "# fit network\n",
    "history_lstm = lstm_model.fit(X_train, y_train, epochs=1)\n",
    "# evaluate model"
   ]
  },
  {
   "cell_type": "code",
   "execution_count": 25,
   "id": "733c9b34",
   "metadata": {},
   "outputs": [
    {
     "name": "stdout",
     "output_type": "stream",
     "text": [
      "15/15 [==============================] - 1s 3ms/step - loss: 1.0757 - accuracy: 0.4080\n"
     ]
    }
   ],
   "source": [
    "_, accuracy = lstm_model.evaluate(X_test, y_test)"
   ]
  },
  {
   "cell_type": "code",
   "execution_count": 26,
   "id": "8effe94b",
   "metadata": {},
   "outputs": [
    {
     "name": "stdout",
     "output_type": "stream",
     "text": [
      "15/15 [==============================] - 1s 3ms/step\n"
     ]
    }
   ],
   "source": [
    "lstm_pred_result = lstm_model.predict(X_test)"
   ]
  },
  {
   "cell_type": "code",
   "execution_count": 27,
   "id": "cd6ab98d",
   "metadata": {},
   "outputs": [],
   "source": [
    "final_pred_lstm = [np.argmax(i) for i in lstm_pred_result]"
   ]
  },
  {
   "cell_type": "code",
   "execution_count": 28,
   "id": "64763d1d",
   "metadata": {},
   "outputs": [
    {
     "name": "stdout",
     "output_type": "stream",
     "text": [
      "              precision    recall  f1-score   support\n",
      "\n",
      "           0       0.00      0.00      0.00       151\n",
      "           1       0.00      0.00      0.00       116\n",
      "           2       0.41      1.00      0.58       184\n",
      "\n",
      "    accuracy                           0.41       451\n",
      "   macro avg       0.14      0.33      0.19       451\n",
      "weighted avg       0.17      0.41      0.24       451\n",
      "\n"
     ]
    }
   ],
   "source": [
    "print(classification_report(y_test_old,final_pred_lstm))"
   ]
  },
  {
   "cell_type": "code",
   "execution_count": 29,
   "id": "2c94cbd7",
   "metadata": {},
   "outputs": [
    {
     "data": {
      "text/plain": [
       "<AxesSubplot:>"
      ]
     },
     "execution_count": 29,
     "metadata": {},
     "output_type": "execute_result"
    },
    {
     "data": {
      "image/png": "[encoded data removed]",
      "text/plain": [
       "<Figure size 640x480 with 2 Axes>"
      ]
     },
     "metadata": {},
     "output_type": "display_data"
    }
   ],
   "source": [
    "# confusion matrix\n",
    "\n",
    "cm = confusion_matrix(y_test_old, final_pred_lstm)\n",
    "sns.heatmap(cm, annot=True, fmt='d', cmap='Blues')"
   ]
  },
  {
   "cell_type": "code",
   "execution_count": null,
   "id": "711159cc",
   "metadata": {},
   "outputs": [],
   "source": []
  }
 ],
 "metadata": {
  "kernelspec": {
   "display_name": "Python 3.8.10 64-bit",
   "language": "python",
   "name": "python3"
  },
  "language_info": {
   "codemirror_mode": {
    "name": "ipython",
    "version": 3
   },
   "file_extension": ".py",
   "mimetype": "text/x-python",
   "name": "python",
   "nbconvert_exporter": "python",
   "pygments_lexer": "ipython3",
   "version": "3.8.10 (default, Nov 14 2022, 12:59:47) \n[GCC 9.4.0]"
  },
  "vscode": {
   "interpreter": {
    "hash": "916dbcbb3f70747c44a77c7bcd40155683ae19c65e1c03b4aa3499c5328201f1"
   }
  }
 },
 "nbformat": 4,
 "nbformat_minor": 5
}
