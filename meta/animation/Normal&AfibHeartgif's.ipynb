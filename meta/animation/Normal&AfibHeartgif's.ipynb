{
 "cells": [
  {
   "cell_type": "markdown",
   "id": "84293730",
   "metadata": {},
   "source": [
    "# Normal Heart Rate Beating"
   ]
  },
  {
   "cell_type": "markdown",
   "id": "f4a7a8b4",
   "metadata": {},
   "source": [
    "![norma_heart_beat.gif](../../images/norma_heart_beat.gif)"
   ]
  },
  {
   "cell_type": "markdown",
   "id": "8626833c",
   "metadata": {},
   "source": [
    "# These are some of the irregular heart beats  images "
   ]
  },
  {
   "cell_type": "markdown",
   "id": "f0434685",
   "metadata": {},
   "source": [
    "![giphy.gif](../../images/giphy.gif)"
   ]
  },
  {
   "cell_type": "markdown",
   "id": "07039e97",
   "metadata": {},
   "source": [
    "![giphy1.gif](../../images/giphy1.gif)"
   ]
  },
  {
   "cell_type": "markdown",
   "id": "b8d11c81",
   "metadata": {},
   "source": [
    "# Comparing Normal Heart Rate With Atrial Fibrillation Heart Rate\n",
    "1) As we can see the in normal heart rate the sinus node is sending the electrical impulse \n",
    "2)  As in the Atrial Fibrillation Heart Rate other atria's are also sending the electrical impulse which cause the atria's  to twitch\n",
    " \n",
    "![afib-compared-original.gif](../../images/afib-compared-original.gif)\n"
   ]
  },
  {
   "cell_type": "markdown",
   "id": "4f307abf",
   "metadata": {},
   "source": [
    "![AFib-Animation.gif](../../images/AFib-Animation.gif)"
   ]
  }
 ],
 "metadata": {
  "kernelspec": {
   "display_name": "Python 3 (ipykernel)",
   "language": "python",
   "name": "python3"
  },
  "language_info": {
   "codemirror_mode": {
    "name": "ipython",
    "version": 3
   },
   "file_extension": ".py",
   "mimetype": "text/x-python",
   "name": "python",
   "nbconvert_exporter": "python",
   "pygments_lexer": "ipython3",
   "version": "3.8.10 (default, Nov 14 2022, 12:59:47) \n[GCC 9.4.0]"
  },
  "vscode": {
   "interpreter": {
    "hash": "916dbcbb3f70747c44a77c7bcd40155683ae19c65e1c03b4aa3499c5328201f1"
   }
  }
 },
 "nbformat": 4,
 "nbformat_minor": 5
}
